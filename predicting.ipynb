{
 "cells": [
  {
   "cell_type": "code",
   "execution_count": 1,
   "id": "b055200d-4fa2-4d1c-aa37-95bc6d87abc1",
   "metadata": {},
   "outputs": [],
   "source": [
    "import pandas as pd"
   ]
  },
  {
   "cell_type": "code",
   "execution_count": 2,
   "id": "7bd82c7e-f901-4eaf-9205-e0563ff4c47f",
   "metadata": {},
   "outputs": [],
   "source": [
    "df = pd.read_csv('flights_test.csv')"
   ]
  },
  {
   "cell_type": "code",
   "execution_count": 3,
   "id": "0b1c780b-762a-42dd-b4b2-cc6adcc0bcec",
   "metadata": {},
   "outputs": [],
   "source": [
    "df['month'] = pd.DatetimeIndex(df.fl_date).month\n",
    "df['year'] = pd.DatetimeIndex(df.fl_date).year\n",
    "df['day'] = pd.DatetimeIndex(df.fl_date).day\n",
    "df['dayofweek'] = pd.DatetimeIndex(df.fl_date).weekday\n",
    "df['dayofyear'] = pd.DatetimeIndex(df.fl_date).dayofyear"
   ]
  },
  {
   "cell_type": "code",
   "execution_count": 4,
   "id": "f83bc18b-9bed-4812-a206-730705ae8d67",
   "metadata": {
    "tags": []
   },
   "outputs": [],
   "source": [
    "df['month']=df['month'].apply(lambda x: '{0:0>2}'.format(x))\n",
    "df['day']=df['day'].apply(lambda x: '{0:0>2}'.format(x))\n",
    "df['dayofyear'] = df['dayofyear'].apply(lambda x: '{0:0>3}'.format(x))\n",
    "df['crs_dep_time'] = df['crs_dep_time'].apply(lambda x: '{0:0>4}'.format(x))\n",
    "df['crs_arr_time'] = df['crs_arr_time'].apply(lambda x: '{0:0>4}'.format(x))\n",
    "df['date'] = (df.year.astype(str) + df.month.astype(str) + df.day.astype(str)).astype(int)"
   ]
  },
  {
   "cell_type": "code",
   "execution_count": 5,
   "id": "0d1bd2c3-fe77-4516-a124-7bef51d2f2d0",
   "metadata": {},
   "outputs": [],
   "source": [
    "#Creating uid to match with average delay data\n",
    "df['op_carrier_fl_num']=df['op_carrier_fl_num'].apply(lambda x: '{0:0>4}'.format(x))\n",
    "df['uid'] = df.origin_airport_id.astype(str) + df.op_carrier_fl_num.astype(str) + df.dest_airport_id.astype(str)"
   ]
  },
  {
   "cell_type": "code",
   "execution_count": 6,
   "id": "f13485ca-6904-4c37-8758-ba990140cb17",
   "metadata": {},
   "outputs": [],
   "source": [
    "#Importing csv with computation of average delay times\n",
    "avg_delays = pd.read_csv('../SQL/average_delays2.csv')\n",
    "avg_delays['op_carrier_fl_num']=avg_delays['op_carrier_fl_num'].apply(lambda x: '{0:0>4}'.format(x))"
   ]
  },
  {
   "cell_type": "code",
   "execution_count": 7,
   "id": "54141dff-d478-4443-aa3f-f8c3c1797f46",
   "metadata": {},
   "outputs": [],
   "source": [
    "#Combining airport_id + op_carrier_fl_num to form one uid. Basis of merger\n",
    "avg_delays['uid'] = avg_delays.oid.astype(str) + avg_delays.op_carrier_fl_num.astype(str) + avg_delays.did.astype(str) "
   ]
  },
  {
   "cell_type": "code",
   "execution_count": 8,
   "id": "3c48d13d-df22-4434-8d13-984a7291b39e",
   "metadata": {
    "tags": []
   },
   "outputs": [],
   "source": [
    "#Merging average delays to model dataset.\n",
    "df = df.merge(avg_delays, how='left', on='uid')"
   ]
  },
  {
   "cell_type": "code",
   "execution_count": 9,
   "id": "3b8f9e0a-796b-425d-b638-bb48d5525c98",
   "metadata": {},
   "outputs": [],
   "source": [
    "df.op_unique_carrier = df.op_unique_carrier.replace(['WN','AA','OO','DL','UA','MQ','YX','OH','B6','9E',\n",
    "'YV','AS','EV','NK','PT','F9','QX','ZW','AX','G7','G4','CP','HA','C5','VX','EM','KS','9K'], list((range(28))))"
   ]
  },
  {
   "cell_type": "code",
   "execution_count": 10,
   "id": "99253dd9-bed3-448f-9612-42087da4f883",
   "metadata": {},
   "outputs": [],
   "source": [
    "df = df.fillna(0)"
   ]
  },
  {
   "cell_type": "code",
   "execution_count": 11,
   "id": "b5a09ddd-cdad-45b3-bd01-e2ce9286d33d",
   "metadata": {},
   "outputs": [],
   "source": [
    "X = df[['date', 'dayofweek', 'dayofyear', 'op_unique_carrier',\n",
    "       'op_carrier_fl_num_x', 'origin_airport_id', 'dest_airport_id',\n",
    "       'crs_dep_time','crs_arr_time', 'distance',\n",
    "       'arr_del_avg', 'dep_del_avg', 'car_del_avg', 'wth_del_avg',\n",
    "       'nas_del_avg', 'sec_del_avg', 'acft_del_avg', 'taxi_in_avg',\n",
    "       'taxi_out_avg', 'elp_time_diff_avg']]"
   ]
  },
  {
   "cell_type": "code",
   "execution_count": 12,
   "id": "377010cb-b291-4650-aa18-f6e3fd1ab7c3",
   "metadata": {},
   "outputs": [],
   "source": [
    "#Scaling the input dataset\n",
    "from sklearn.preprocessing import StandardScaler\n",
    "scaler = StandardScaler()\n",
    "scaled_X = scaler.fit_transform(X)"
   ]
  },
  {
   "cell_type": "code",
   "execution_count": 13,
   "id": "5d9f76e7-2656-4c80-adb7-8d8e909f3561",
   "metadata": {},
   "outputs": [],
   "source": [
    "#To retrieve model from disk\n",
    "import pickle\n",
    "loaded_model = pickle.load(open('mid_termXGB.sav','rb'))"
   ]
  },
  {
   "cell_type": "code",
   "execution_count": 14,
   "id": "58fbe8bb-1fb0-453e-804d-99e8aba54f06",
   "metadata": {},
   "outputs": [],
   "source": [
    "delays = loaded_model.predict(scaled_X)"
   ]
  },
  {
   "cell_type": "code",
   "execution_count": 15,
   "id": "80eff54f-488d-47f1-9993-a10d5e3a84e2",
   "metadata": {},
   "outputs": [],
   "source": [
    "df['predicted_delays'] = delays"
   ]
  },
  {
   "cell_type": "code",
   "execution_count": 16,
   "id": "8ba05cc7-9b26-495e-89b1-1efe53f5695d",
   "metadata": {},
   "outputs": [],
   "source": [
    "final = df[['fl_date','mkt_carrier',\n",
    "       'mkt_carrier_fl_num','origin','dest','predicted_delays']]"
   ]
  },
  {
   "cell_type": "code",
   "execution_count": 17,
   "id": "17c67d4b-3a07-4562-8835-6173b3940f66",
   "metadata": {},
   "outputs": [],
   "source": [
    "final.to_csv('josh_vishal_submission.csv', index =False)"
   ]
  },
  {
   "cell_type": "code",
   "execution_count": null,
   "id": "e30ee83e-17b1-44b4-9222-330581361af6",
   "metadata": {},
   "outputs": [],
   "source": []
  }
 ],
 "metadata": {
  "kernelspec": {
   "display_name": "Python 3 (ipykernel)",
   "language": "python",
   "name": "python3"
  },
  "language_info": {
   "codemirror_mode": {
    "name": "ipython",
    "version": 3
   },
   "file_extension": ".py",
   "mimetype": "text/x-python",
   "name": "python",
   "nbconvert_exporter": "python",
   "pygments_lexer": "ipython3",
   "version": "3.8.11"
  }
 },
 "nbformat": 4,
 "nbformat_minor": 5
}
