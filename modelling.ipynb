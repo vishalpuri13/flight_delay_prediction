{
 "cells": [
  {
   "cell_type": "code",
   "execution_count": 2,
   "id": "7613c2fc-4f72-471b-bfc4-80800aa3ce80",
   "metadata": {},
   "outputs": [],
   "source": [
    "import pandas as pd\n",
    "import numpy as np\n",
    "from sklearn.feature_selection import VarianceThreshold\n",
    "from sklearn.model_selection import train_test_split\n",
    "from sklearn.linear_model import LinearRegression, Ridge, Lasso, LassoCV, ElasticNet\n",
    "from sklearn.metrics import r2_score, mean_squared_error\n",
    "from sklearn.metrics import mean_absolute_error\n",
    "from sklearn.decomposition import PCA\n",
    "from sklearn.preprocessing import StandardScaler\n",
    "from sklearn.impute import SimpleImputer\n",
    "from sklearn.preprocessing import PolynomialFeatures\n",
    "from sklearn.pipeline import make_pipeline\n",
    "import matplotlib.pyplot as plt\n",
    "from sklearn.model_selection import GridSearchCV\n",
    "from sklearn import svm\n",
    "from sklearn.model_selection import RepeatedStratifiedKFold\n",
    "from sklearn.ensemble import RandomForestRegressor\n",
    "%matplotlib inline\n",
    "import pickle\n",
    "import xgboost as xgb\n",
    "import seaborn as sns"
   ]
  },
  {
   "cell_type": "markdown",
   "id": "3a0ecd63-733d-4412-8245-d6222b3c1f61",
   "metadata": {},
   "source": [
    "<a id='sampling'></a>\n",
    "## Compiling Sample Dataset"
   ]
  },
  {
   "cell_type": "code",
   "execution_count": 3,
   "id": "5193d219-511a-4789-8ccd-0fa0059437e4",
   "metadata": {
    "collapsed": true,
    "jupyter": {
     "outputs_hidden": true
    },
    "tags": []
   },
   "outputs": [
    {
     "name": "stderr",
     "output_type": "stream",
     "text": [
      "/home/vishal/anaconda3/lib/python3.8/site-packages/IPython/core/interactiveshell.py:3441: DtypeWarning: Columns (25) have mixed types.Specify dtype option on import or set low_memory=False.\n",
      "  exec(code_obj, self.user_global_ns, self.user_ns)\n"
     ]
    }
   ],
   "source": [
    "df1 = pd.read_csv('Jan_01_10_2018.csv', sep = \",\")\n",
    "df2 = pd.read_csv('Jan_11_20_2018.csv', sep = \",\")\n",
    "df3 = pd.read_csv('Jan_21_31_2018.csv', sep = \",\")\n",
    "df4 = pd.read_csv('Dec_21_31_2018.csv', sep = \",\")\n",
    "df5 = pd.read_csv('Jan_01_07_2019.csv', sep = \",\")\n",
    "df6 = pd.read_csv('Jan_08_15_2019.csv', sep = \",\")\n",
    "df7 = pd.read_csv('Jan_16_22_2019.csv', sep = \",\")\n",
    "df8 = pd.read_csv('Jan_23_31_2019.csv', sep = \",\")\n",
    "df9 = pd.read_csv('Dec_21_31_2019.csv', sep = \",\")"
   ]
  },
  {
   "cell_type": "code",
   "execution_count": 4,
   "id": "c854db6a-03b9-4822-be90-e2624d7d8568",
   "metadata": {},
   "outputs": [],
   "source": [
    "df = pd.concat([df1, df2,df3,df5,df6,df7,df8,df9])"
   ]
  },
  {
   "cell_type": "code",
   "execution_count": 5,
   "id": "e4f335d6-0bcb-44c3-a108-c15fa9fe9b4c",
   "metadata": {},
   "outputs": [],
   "source": [
    "df = df.sort_values('fl_date', ascending = True)"
   ]
  },
  {
   "cell_type": "code",
   "execution_count": 6,
   "id": "c4b57ee1-3b35-4ad9-a259-1f334692760c",
   "metadata": {
    "tags": []
   },
   "outputs": [],
   "source": [
    "df = df.drop_duplicates()"
   ]
  },
  {
   "cell_type": "code",
   "execution_count": 7,
   "id": "b71a0518-704f-4d2b-983e-58d41c4f37e8",
   "metadata": {},
   "outputs": [],
   "source": [
    "df['month'] = pd.DatetimeIndex(df.fl_date).month\n",
    "df['year'] = pd.DatetimeIndex(df.fl_date).year\n",
    "df['day'] = pd.DatetimeIndex(df.fl_date).day\n",
    "df['dayofweek'] = pd.DatetimeIndex(df.fl_date).weekday\n",
    "df['dayofyear'] = pd.DatetimeIndex(df.fl_date).dayofyear"
   ]
  },
  {
   "cell_type": "code",
   "execution_count": 8,
   "id": "86e6bdbf-ecc8-4433-b9fc-091e3729c03e",
   "metadata": {
    "tags": []
   },
   "outputs": [],
   "source": [
    "df['month']=df['month'].apply(lambda x: '{0:0>2}'.format(x))\n",
    "df['day']=df['day'].apply(lambda x: '{0:0>2}'.format(x))\n",
    "df['dayofyear'] = df['dayofyear'].apply(lambda x: '{0:0>3}'.format(x))\n",
    "df['crs_dep_time'] = df['crs_dep_time'].apply(lambda x: '{0:0>4}'.format(x))\n",
    "df['crs_arr_time'] = df['crs_arr_time'].apply(lambda x: '{0:0>4}'.format(x))\n",
    "df['dep_time'] = df['dep_time'].apply(lambda x: '{0:0>4}'.format(x))\n",
    "df['arr_time'] = df['arr_time'].apply(lambda x: '{0:0>4}'.format(x))\n",
    "df['date'] = (df.year.astype(str) + df.month.astype(str) + df.day.astype(str)).astype(int)"
   ]
  },
  {
   "cell_type": "code",
   "execution_count": 9,
   "id": "4a5c4b4f-66eb-4114-b750-9f2705cddcfb",
   "metadata": {},
   "outputs": [],
   "source": [
    "#Creating uid to match with average delay data\n",
    "df['op_carrier_fl_num']=df['op_carrier_fl_num'].apply(lambda x: '{0:0>4}'.format(x))\n",
    "df['uid'] = df.origin_airport_id.astype(str) + df.op_carrier_fl_num.astype(str) + df.dest_airport_id.astype(str)"
   ]
  },
  {
   "cell_type": "code",
   "execution_count": 10,
   "id": "a3f391e6-0ca8-450b-8c61-eb5e413f5bba",
   "metadata": {},
   "outputs": [],
   "source": [
    "#Creating uid2 to match with passengers data\n",
    "df['uid2'] = df.origin_airport_id.astype(str) + df.year.astype(str) + df.month.astype(str)+ df.op_unique_carrier.astype(str) + df.dest_airport_id.astype(str)"
   ]
  },
  {
   "cell_type": "code",
   "execution_count": 11,
   "id": "e110745a-d1f7-4661-881c-9739eaad9105",
   "metadata": {
    "tags": []
   },
   "outputs": [],
   "source": [
    "df = df.reset_index()"
   ]
  },
  {
   "cell_type": "code",
   "execution_count": 11,
   "id": "5736f21c-a438-44f4-b6fc-04a3d1e2e5b6",
   "metadata": {},
   "outputs": [
    {
     "data": {
      "text/plain": [
       "Index(['index', 'fl_date', 'mkt_unique_carrier', 'branded_code_share',\n",
       "       'mkt_carrier', 'mkt_carrier_fl_num', 'op_unique_carrier', 'tail_num',\n",
       "       'op_carrier_fl_num', 'origin_airport_id', 'origin', 'origin_city_name',\n",
       "       'dest_airport_id', 'dest', 'dest_city_name', 'crs_dep_time', 'dep_time',\n",
       "       'dep_delay', 'taxi_out', 'wheels_off', 'wheels_on', 'taxi_in',\n",
       "       'crs_arr_time', 'arr_time', 'arr_delay', 'cancelled',\n",
       "       'cancellation_code', 'diverted', 'dup', 'crs_elapsed_time',\n",
       "       'actual_elapsed_time', 'air_time', 'flights', 'distance',\n",
       "       'carrier_delay', 'weather_delay', 'nas_delay', 'security_delay',\n",
       "       'late_aircraft_delay', 'first_dep_time', 'total_add_gtime',\n",
       "       'longest_add_gtime', 'no_name', 'month', 'year', 'day', 'dayofweek',\n",
       "       'dayofyear', 'date', 'uid', 'uid2'],\n",
       "      dtype='object')"
      ]
     },
     "execution_count": 11,
     "metadata": {},
     "output_type": "execute_result"
    }
   ],
   "source": [
    "#Save the file. Saving the file remove all the leading zeroes. Need to reapply leading zeros if uploading csv.\n",
    "df.to_csv('pruned_data.csv', index = False)\n",
    "df.columns"
   ]
  },
  {
   "cell_type": "code",
   "execution_count": 13,
   "id": "0b0f0a7c-ae7c-4cc5-8d29-cc64c14b5d83",
   "metadata": {},
   "outputs": [],
   "source": [
    "df_model = df[['uid', 'uid2','date', 'dayofweek', 'dayofyear','op_unique_carrier','op_carrier_fl_num', 'origin_airport_id', 'origin',\n",
    "       'dest_airport_id', 'dest','crs_dep_time', 'dep_time',\n",
    "       'dep_delay', 'taxi_out', 'wheels_off', 'wheels_on', 'taxi_in',\n",
    "       'crs_arr_time', 'arr_time', 'arr_delay', 'cancelled',\n",
    "       'cancellation_code', 'crs_elapsed_time',\n",
    "       'actual_elapsed_time', 'air_time', 'distance', \n",
    "       'carrier_delay', 'weather_delay', 'nas_delay', 'security_delay',\n",
    "       'late_aircraft_delay', 'first_dep_time','total_add_gtime',\n",
    "       'longest_add_gtime']]"
   ]
  },
  {
   "cell_type": "markdown",
   "id": "96dcfa22-2148-4eb7-b8d8-b76f45352821",
   "metadata": {},
   "source": [
    "<a id='featuring'></a>\n",
    "#### Feature Engineering & Selection"
   ]
  },
  {
   "cell_type": "code",
   "execution_count": 15,
   "id": "a202edc2-089a-47d9-9b99-b126f0e9874a",
   "metadata": {},
   "outputs": [],
   "source": [
    "#Importing csv with computation of average delay times\n",
    "avg_delays = pd.read_csv('../SQL/average_delays2.csv')\n",
    "avg_delays['op_carrier_fl_num']=avg_delays['op_carrier_fl_num'].apply(lambda x: '{0:0>4}'.format(x))"
   ]
  },
  {
   "cell_type": "code",
   "execution_count": 16,
   "id": "1dcf8868-a9cc-48b1-bc7e-092170598c74",
   "metadata": {},
   "outputs": [],
   "source": [
    "#Combining airport_id + op_carrier_fl_num to form one uid to merge with flights data\n",
    "avg_delays['uid'] = avg_delays.oid.astype(str) + avg_delays.op_carrier_fl_num.astype(str) + avg_delays.did.astype(str)"
   ]
  },
  {
   "cell_type": "code",
   "execution_count": 17,
   "id": "491500a5-b400-4e2a-97cc-29927424aa74",
   "metadata": {},
   "outputs": [],
   "source": [
    "#Importing csv with passengers data\n",
    "passengers = pd.read_csv('passengers_data.csv')"
   ]
  },
  {
   "cell_type": "code",
   "execution_count": 18,
   "id": "a95715ac-1ae8-42ac-81db-177fc803eafe",
   "metadata": {},
   "outputs": [],
   "source": [
    "passengers = passengers.rename(columns = {'sum':'payload', 'sum.1':'seats','sum.2':'passengers'})"
   ]
  },
  {
   "cell_type": "code",
   "execution_count": 20,
   "id": "03f1ff4f-ef4e-4967-9b97-280f8eb4d15e",
   "metadata": {},
   "outputs": [
    {
     "name": "stderr",
     "output_type": "stream",
     "text": [
      "/tmp/ipykernel_4461/1604502537.py:4: UserWarning: Boolean Series key will be reindexed to match DataFrame index.\n",
      "  pass_small = passengers[passengers.unique_carrier.isin(carriers)][passengers.year.isin([2018,2019])]\n"
     ]
    }
   ],
   "source": [
    "#Selecting passengers data only for 2018, 2019 and for the carriers in the primary data\n",
    "carriers = ['WN','AA','OO','DL','UA','MQ','YX','OH','B6','9E',\n",
    "'YV','AS','EV','NK','PT','F9','QX','ZW','AX','G7','G4','CP','HA','C5','VX','EM','KS','9K']\n",
    "pass_small = passengers[passengers.unique_carrier.isin(carriers)][passengers.year.isin([2018,2019])]"
   ]
  },
  {
   "cell_type": "code",
   "execution_count": 21,
   "id": "b4cd761a-1700-42df-882f-2ce97768244b",
   "metadata": {
    "collapsed": true,
    "jupyter": {
     "outputs_hidden": true
    },
    "tags": []
   },
   "outputs": [
    {
     "name": "stderr",
     "output_type": "stream",
     "text": [
      "/tmp/ipykernel_4461/4064639945.py:5: SettingWithCopyWarning: \n",
      "A value is trying to be set on a copy of a slice from a DataFrame\n",
      "\n",
      "See the caveats in the documentation: https://pandas.pydata.org/pandas-docs/stable/user_guide/indexing.html#returning-a-view-versus-a-copy\n",
      "  pass_small['payload'][pass_small.month.isin([4,6,9,11])] = pass_small['payload'][pass_small.month.isin([4,6,9,11])].div(30).round(0)\n",
      "/tmp/ipykernel_4461/4064639945.py:6: SettingWithCopyWarning: \n",
      "A value is trying to be set on a copy of a slice from a DataFrame\n",
      "\n",
      "See the caveats in the documentation: https://pandas.pydata.org/pandas-docs/stable/user_guide/indexing.html#returning-a-view-versus-a-copy\n",
      "  pass_small['seats'][pass_small.month.isin([4,6,9,11])] = pass_small['seats'][pass_small.month.isin([4,6,9,11])].div(30).round(0)\n",
      "/tmp/ipykernel_4461/4064639945.py:7: SettingWithCopyWarning: \n",
      "A value is trying to be set on a copy of a slice from a DataFrame\n",
      "\n",
      "See the caveats in the documentation: https://pandas.pydata.org/pandas-docs/stable/user_guide/indexing.html#returning-a-view-versus-a-copy\n",
      "  pass_small['passengers'][pass_small.month.isin([4,6,9,11])] = pass_small['passengers'][pass_small.month.isin([4,6,9,11])].div(30).round(0)\n",
      "/tmp/ipykernel_4461/4064639945.py:8: SettingWithCopyWarning: \n",
      "A value is trying to be set on a copy of a slice from a DataFrame\n",
      "\n",
      "See the caveats in the documentation: https://pandas.pydata.org/pandas-docs/stable/user_guide/indexing.html#returning-a-view-versus-a-copy\n",
      "  pass_small['payload'][pass_small.month.isin([2])] = pass_small['payload'][pass_small.month.isin([2])].div(28).round(0)\n",
      "/tmp/ipykernel_4461/4064639945.py:9: SettingWithCopyWarning: \n",
      "A value is trying to be set on a copy of a slice from a DataFrame\n",
      "\n",
      "See the caveats in the documentation: https://pandas.pydata.org/pandas-docs/stable/user_guide/indexing.html#returning-a-view-versus-a-copy\n",
      "  pass_small['seats'][pass_small.month.isin([2])] = pass_small['seats'][pass_small.month.isin([2])].div(28).round(0)\n",
      "/tmp/ipykernel_4461/4064639945.py:10: SettingWithCopyWarning: \n",
      "A value is trying to be set on a copy of a slice from a DataFrame\n",
      "\n",
      "See the caveats in the documentation: https://pandas.pydata.org/pandas-docs/stable/user_guide/indexing.html#returning-a-view-versus-a-copy\n",
      "  pass_small['passengers'][pass_small.month.isin([2])] = pass_small['passengers'][pass_small.month.isin([2])].div(28).round(0)\n"
     ]
    }
   ],
   "source": [
    "#Converting monthly payload, seats and passenger figures to daily figures\n",
    "pass_small['payload'][pass_small.month.isin([1,3,5,7,8,10,12])] = pass_small['payload'][pass_small.month.isin([1,3,5,7,8,10,12])].div(31).round(0)\n",
    "pass_small['seats'][pass_small.month.isin([1,3,5,7,8,10,12])] = pass_small['seats'][pass_small.month.isin([1,3,5,7,8,10,12])].div(31).round(0)\n",
    "pass_small['passengers'][pass_small.month.isin([1,3,5,7,8,10,12])] = pass_small['passengers'][pass_small.month.isin([1,3,5,7,8,10,12])].div(31).round(0)\n",
    "pass_small['payload'][pass_small.month.isin([4,6,9,11])] = pass_small['payload'][pass_small.month.isin([4,6,9,11])].div(30).round(0)\n",
    "pass_small['seats'][pass_small.month.isin([4,6,9,11])] = pass_small['seats'][pass_small.month.isin([4,6,9,11])].div(30).round(0)\n",
    "pass_small['passengers'][pass_small.month.isin([4,6,9,11])] = pass_small['passengers'][pass_small.month.isin([4,6,9,11])].div(30).round(0)\n",
    "pass_small['payload'][pass_small.month.isin([2])] = pass_small['payload'][pass_small.month.isin([2])].div(28).round(0)\n",
    "pass_small['seats'][pass_small.month.isin([2])] = pass_small['seats'][pass_small.month.isin([2])].div(28).round(0)\n",
    "pass_small['passengers'][pass_small.month.isin([2])] = pass_small['passengers'][pass_small.month.isin([2])].div(28).round(0)\n",
    "pass_small = pass_small.reset_index()"
   ]
  },
  {
   "cell_type": "code",
   "execution_count": 22,
   "id": "82a8b883-43d3-4642-9ac4-f01bec3a4b45",
   "metadata": {},
   "outputs": [],
   "source": [
    "pass_small = pass_small.drop(columns=['index','origin','dest'])"
   ]
  },
  {
   "cell_type": "code",
   "execution_count": 23,
   "id": "86f3357f-4a2a-4607-9e0f-03e0eb3fc7a1",
   "metadata": {},
   "outputs": [],
   "source": [
    "#Creating Unique ID2 to match with flights data\n",
    "pass_small['month']=pass_small['month'].apply(lambda x: '{0:0>2}'.format(x))\n",
    "pass_small['uid2'] = pass_small.origin_airport_id.astype(str) + pass_small.year.astype(str) + pass_small.month.astype(str)+ pass_small.unique_carrier.astype(str) + pass_small.dest_airport_id.astype(str)"
   ]
  },
  {
   "cell_type": "code",
   "execution_count": 24,
   "id": "2982cf66-24a7-440d-8f9a-2f4b271a6888",
   "metadata": {
    "tags": []
   },
   "outputs": [],
   "source": [
    "#Merging average delays to model dataset\n",
    "df_model = df_model.merge(avg_delays, how='left', on='uid')"
   ]
  },
  {
   "cell_type": "code",
   "execution_count": 25,
   "id": "d9788b0f-affb-4068-a032-e8ecc0e4f779",
   "metadata": {},
   "outputs": [],
   "source": [
    "#Merging passengers data to model dataset\n",
    "df_model = df_model.merge(pass_small, how='left', on='uid2')"
   ]
  },
  {
   "cell_type": "code",
   "execution_count": 23,
   "id": "873e07b4-7a47-4aeb-94f4-571340d3871b",
   "metadata": {
    "tags": []
   },
   "outputs": [],
   "source": [
    "#Save the file as csv\n",
    "df_model.to_csv('raw_model_data1.csv',index=False)\n",
    "#df_model = pd.read_csv('raw_model_data1.csv')"
   ]
  },
  {
   "cell_type": "markdown",
   "id": "2954e0d0-4725-4b6d-b56b-adb46d9ffeed",
   "metadata": {},
   "source": [
    "#### Replacing categorical variables & converting to numeric"
   ]
  },
  {
   "cell_type": "code",
   "execution_count": 26,
   "id": "59ece6c6-7c66-4959-8eb6-0243d4cbaa3c",
   "metadata": {},
   "outputs": [],
   "source": [
    "df_model.op_unique_carrier = df_model.op_unique_carrier.replace(['WN','AA','OO','DL','UA','MQ','YX','OH','B6','9E',\n",
    "'YV','AS','EV','NK','PT','F9','QX','ZW','AX','G7','G4','CP','HA','C5','VX','EM','KS','9K'], list((range(28))))"
   ]
  },
  {
   "cell_type": "code",
   "execution_count": 27,
   "id": "5c3428b1-b5bb-40da-9e46-13d7b558791f",
   "metadata": {},
   "outputs": [],
   "source": [
    "df_model.cancellation_code = df_model.cancellation_code.replace(['B', 'A', 'C', 'D', 'X'],[1,2,3,4,5])\n",
    "df_model.cancellation_code = df_model.cancellation_code.fillna(0)"
   ]
  },
  {
   "cell_type": "code",
   "execution_count": 28,
   "id": "1a1326ad-70db-41ad-b651-b833f39a7adb",
   "metadata": {},
   "outputs": [],
   "source": [
    "# Removing reduntant/repeating columns\n",
    "df_model = df_model.drop(['uid', 'uid2','origin','dest','oid', 'did','op_carrier_fl_num_y','year', 'month','unique_carrier',\n",
    "       'origin_airport_id_y', 'dest_airport_id_y'], axis =1)"
   ]
  },
  {
   "cell_type": "code",
   "execution_count": 29,
   "id": "b11ef0a1-ebe2-44da-850c-9f4f78a267bb",
   "metadata": {},
   "outputs": [],
   "source": [
    "df_model = df_model.fillna(0)"
   ]
  },
  {
   "cell_type": "code",
   "execution_count": 30,
   "id": "81193cf7-87de-4f35-9fc4-0cbb61f9ca51",
   "metadata": {},
   "outputs": [],
   "source": [
    "# Save refined data to be used for modelling\n",
    "df_model.to_csv('refined_data.csv', index=False)\n",
    "#df_model = pd.read_csv('refined_data.csv')"
   ]
  },
  {
   "cell_type": "code",
   "execution_count": 77,
   "id": "da0df73d-e095-4f41-a0e8-858af12e9a29",
   "metadata": {},
   "outputs": [],
   "source": [
    "X = df_model[['date', 'dayofweek', 'dayofyear', 'op_unique_carrier',\n",
    "       'op_carrier_fl_num_x', 'origin_airport_id_x', 'dest_airport_id_x',\n",
    "       'crs_dep_time','crs_arr_time', 'crs_elapsed_time','distance',\n",
    "       'arr_del_avg', 'dep_del_avg', 'car_del_avg', 'wth_del_avg',\n",
    "       'nas_del_avg', 'sec_del_avg', 'acft_del_avg', 'taxi_in_avg',\n",
    "       'taxi_out_avg', 'elp_time_diff_avg', 'payload', 'seats', 'passengers']]\n",
    "y = df_model['arr_delay']"
   ]
  },
  {
   "cell_type": "code",
   "execution_count": 33,
   "id": "27e85e97-5793-4b24-9b5b-2e1a8e7f3938",
   "metadata": {
    "tags": []
   },
   "outputs": [
    {
     "data": {
      "text/plain": [
       "(1476341, 24)"
      ]
     },
     "execution_count": 33,
     "metadata": {},
     "output_type": "execute_result"
    }
   ],
   "source": [
    "X.shape"
   ]
  },
  {
   "cell_type": "markdown",
   "id": "bce3b51b-58de-4880-a33a-13491829c640",
   "metadata": {
    "tags": []
   },
   "source": [
    "#### Eliminate Low Variance & High Correlation"
   ]
  },
  {
   "cell_type": "code",
   "execution_count": 34,
   "id": "c8e3a2c1-a814-4957-ae1b-4ca4397038c5",
   "metadata": {
    "tags": []
   },
   "outputs": [],
   "source": [
    "# Defining functions to remove low variance and high correlation\n",
    "#from sklearn.feature_selection import VarianceThreshold\n",
    "\n",
    "def eliminateLowVariance(x, df):\n",
    "    \"\"\"\n",
    "    x should be between 0 and 1\n",
    "    \"\"\"\n",
    "    vt = VarianceThreshold(x)\n",
    "    vt.fit(df)\n",
    "    return df.loc[:, vt.variances_ > x]\n",
    "\n",
    "def eliminateCorrFeatures(coef_, df):\n",
    "    \"\"\"\n",
    "    coef_ should be between 0 and 1\n",
    "    \"\"\"\n",
    "    # step 1\n",
    "    df_corr = df.corr().abs()\n",
    "\n",
    "    # step 2\n",
    "    indices = np.where(df_corr > coef_) \n",
    "    indices = [(df_corr.index[x], df_corr.columns[y]) for x, y in zip(*indices)\n",
    "                                        if x != y and x < y]\n",
    "\n",
    "    # step 3\n",
    "    for idx in indices: #each pair\n",
    "        try:\n",
    "            df.drop(idx[1], axis = 1, inplace=True)\n",
    "        except KeyError:\n",
    "            pass\n",
    "    return df"
   ]
  },
  {
   "cell_type": "code",
   "execution_count": 35,
   "id": "b78d2ba2-1f20-4c0e-91fc-013307e0aa86",
   "metadata": {
    "tags": []
   },
   "outputs": [
    {
     "data": {
      "text/plain": [
       "(1476341, 24)"
      ]
     },
     "execution_count": 35,
     "metadata": {},
     "output_type": "execute_result"
    }
   ],
   "source": [
    "X = eliminateLowVariance(0.2, X)\n",
    "X.shape"
   ]
  },
  {
   "cell_type": "code",
   "execution_count": 76,
   "id": "ea239c79-d37f-41aa-b275-4dc286fa23c6",
   "metadata": {},
   "outputs": [
    {
     "data": {
      "text/plain": [
       "<AxesSubplot:>"
      ]
     },
     "execution_count": 76,
     "metadata": {},
     "output_type": "execute_result"
    },
    {
     "data": {
      "image/png": "[encoded data removed]",
      "text/plain": [
       "<Figure size 1152x864 with 2 Axes>"
      ]
     },
     "metadata": {
      "needs_background": "light"
     },
     "output_type": "display_data"
    }
   ],
   "source": [
    "# Visualizing Correlation matrix\n",
    "#import seaborn as sns\n",
    "corrmat = X.corr()\n",
    "f, ax = plt.subplots(figsize=(16, 12))\n",
    "sns.heatmap(corrmat, vmax=1, square=True,cmap=sns.diverging_palette(20,220,n=200))      # \"RdYlGn_r\")"
   ]
  },
  {
   "cell_type": "code",
   "execution_count": 103,
   "id": "441da923-37e8-4449-9c31-146d2dc6ea6e",
   "metadata": {
    "tags": []
   },
   "outputs": [
    {
     "name": "stderr",
     "output_type": "stream",
     "text": [
      "/home/vishal/anaconda3/lib/python3.8/site-packages/pandas/core/frame.py:4906: SettingWithCopyWarning: \n",
      "A value is trying to be set on a copy of a slice from a DataFrame\n",
      "\n",
      "See the caveats in the documentation: https://pandas.pydata.org/pandas-docs/stable/user_guide/indexing.html#returning-a-view-versus-a-copy\n",
      "  return super().drop(\n"
     ]
    },
    {
     "data": {
      "text/plain": [
       "(1476341, 20)"
      ]
     },
     "execution_count": 103,
     "metadata": {},
     "output_type": "execute_result"
    }
   ],
   "source": [
    "X = eliminateCorrFeatures(0.85, X)\n",
    "X.shape"
   ]
  },
  {
   "cell_type": "markdown",
   "id": "1d0882a1-f4cf-46b9-9672-7abc33723813",
   "metadata": {},
   "source": [
    "#### <a id='trials'></a>\n",
    "#### Modeling Trials after scaling and splitting"
   ]
  },
  {
   "cell_type": "code",
   "execution_count": 104,
   "id": "c9af0293-58b5-4ebc-9d18-b5782d29be86",
   "metadata": {},
   "outputs": [],
   "source": [
    "#Scaling the input dataset\n",
    "scaler = StandardScaler()\n",
    "scaled_X = scaler.fit_transform(X)"
   ]
  },
  {
   "cell_type": "code",
   "execution_count": 105,
   "id": "c9b8dc60-aaa5-4a33-9886-0e7b62ccaf1b",
   "metadata": {},
   "outputs": [],
   "source": [
    "# Train_test_split\n",
    "#from sklearn.model_selection import train_test_split\n",
    "X_train, X_test, y_train, y_test = train_test_split(scaled_X, y, test_size=0.30, random_state=100)"
   ]
  },
  {
   "cell_type": "code",
   "execution_count": 106,
   "id": "baa97fed-f9af-4959-9df6-70bc4fd75f9e",
   "metadata": {},
   "outputs": [
    {
     "data": {
      "text/plain": [
       "LinearRegression()"
      ]
     },
     "execution_count": 106,
     "metadata": {},
     "output_type": "execute_result"
    }
   ],
   "source": [
    "#from sklearn.linear_model import LinearRegression, Ridge\n",
    "lr = LinearRegression()\n",
    "lr.fit(X_train,y_train)"
   ]
  },
  {
   "cell_type": "code",
   "execution_count": 107,
   "id": "2db21e04-b81e-46a1-bd69-3b17daf78286",
   "metadata": {},
   "outputs": [],
   "source": [
    "y_lr = lr.predict(X_test)"
   ]
  },
  {
   "cell_type": "code",
   "execution_count": 108,
   "id": "cdb387e0-50a5-44ee-adc6-2dfcc8535ca2",
   "metadata": {},
   "outputs": [
    {
     "data": {
      "text/plain": [
       "Ridge(alpha=0.1)"
      ]
     },
     "execution_count": 108,
     "metadata": {},
     "output_type": "execute_result"
    }
   ],
   "source": [
    "# creating ridge regression\n",
    "rr = Ridge(alpha=0.1)\n",
    "rr.fit(X_train,y_train)"
   ]
  },
  {
   "cell_type": "code",
   "execution_count": 109,
   "id": "48ae41c8-9c14-4ab5-8a8a-8ceff9421762",
   "metadata": {},
   "outputs": [],
   "source": [
    "y_rr = rr.predict(X_test)"
   ]
  },
  {
   "cell_type": "code",
   "execution_count": 110,
   "id": "b4a08870-5636-4e1d-b59f-e017cd7ee9d0",
   "metadata": {},
   "outputs": [
    {
     "name": "stdout",
     "output_type": "stream",
     "text": [
      "RSquared_Linear:  0.07323836370175063\n",
      "RSquared_Ridge: 0.07323836481920865\n",
      "MAE_Linear:  23.31564260546545\n",
      "MAE_Ridge: 23.315642662551387\n"
     ]
    }
   ],
   "source": [
    "#from sklearn.metrics import r2_score\n",
    "#from sklearn.metrics import mean_absolute_error\n",
    "R2_lr = r2_score(y_test, y_lr)\n",
    "R2_rr = r2_score(y_test, y_rr)\n",
    "MAE_lr = mean_absolute_error(y_test, y_lr)\n",
    "MAE_rr = mean_absolute_error(y_test, y_rr)\n",
    "print (f'RSquared_Linear:  {R2_lr}')\n",
    "print (f'RSquared_Ridge: {R2_rr}')\n",
    "print (f'MAE_Linear:  {MAE_lr}')\n",
    "print (f'MAE_Ridge: {MAE_rr}')"
   ]
  },
  {
   "cell_type": "markdown",
   "id": "f7a19d81-6dd9-419d-9769-c50a491ee600",
   "metadata": {},
   "source": [
    "<a id='PCA'></a>\n",
    "#### Using PCA to check if dimensionality can be reduced"
   ]
  },
  {
   "cell_type": "code",
   "execution_count": 42,
   "id": "4030dcf4-2323-4447-a101-62a94136f89d",
   "metadata": {},
   "outputs": [],
   "source": [
    "#from sklearn.decomposition import PCA\n",
    "#from sklearn.preprocessing import StandardScaler\n",
    "#from sklearn.impute import SimpleImputer"
   ]
  },
  {
   "cell_type": "code",
   "execution_count": 111,
   "id": "699d9874-cb10-403e-b6d6-aa26e02999bb",
   "metadata": {},
   "outputs": [
    {
     "data": {
      "text/plain": [
       "PCA(n_components=20, random_state=42)"
      ]
     },
     "execution_count": 111,
     "metadata": {},
     "output_type": "execute_result"
    }
   ],
   "source": [
    "# PCA with number of componenets equal to number of features\n",
    "pca = PCA(n_components=len(X.columns), random_state=42)\n",
    "pca.fit(StandardScaler()\n",
    "        .fit_transform(SimpleImputer(strategy=\"median\")\n",
    "                       .fit_transform(X)))"
   ]
  },
  {
   "cell_type": "code",
   "execution_count": 112,
   "id": "2efa81a5-34d3-4568-ae49-5fe652ab57e3",
   "metadata": {},
   "outputs": [
    {
     "name": "stdout",
     "output_type": "stream",
     "text": [
      "[0.11029625 0.09789315 0.07963892 0.072492   0.06104197 0.05883633\n",
      " 0.05387744 0.05281409 0.05028184 0.04935457 0.0475814  0.04378802\n",
      " 0.04073904 0.03857894 0.03506029 0.03137652 0.02808434 0.02043675\n",
      " 0.01451599 0.01331215]\n",
      "\n",
      "[0.11029625 0.2081894  0.28782832 0.36032032 0.42136228 0.48019862\n",
      " 0.53407606 0.58689014 0.63717199 0.68652656 0.73410796 0.77789598\n",
      " 0.81863502 0.85721397 0.89227426 0.92365078 0.95173512 0.97217187\n",
      " 0.98668785 1.        ]\n"
     ]
    }
   ],
   "source": [
    "# creating cumulative explained variance\n",
    "print(pca.explained_variance_ratio_)\n",
    "print(\"\")\n",
    "print(np.cumsum(pca.explained_variance_ratio_))"
   ]
  },
  {
   "cell_type": "code",
   "execution_count": 114,
   "id": "c769ab2b-a7e3-4e92-bad1-09637bf44eb5",
   "metadata": {},
   "outputs": [
    {
     "data": {
      "image/png": "[encoded data removed]",
      "text/plain": [
       "<Figure size 1152x576 with 1 Axes>"
      ]
     },
     "metadata": {
      "needs_background": "light"
     },
     "output_type": "display_data"
    }
   ],
   "source": [
    "# plotting\n",
    "#import matplotlib.pyplot as plt\n",
    "#%matplotlib inline\n",
    "\n",
    "x_pca = range(len(pca.explained_variance_ratio_)+1)\n",
    "y_pca = [0]+ list(np.cumsum(pca.explained_variance_ratio_))\n",
    "comps = 20\n",
    "\n",
    "fig = plt.figure(figsize=(16,8))\n",
    "ax = fig.add_subplot(111)\n",
    "plt.plot(x_pca, y_pca)\n",
    "plt.xlim(0,comps)\n",
    "plt.ylim(0,1)\n",
    "plt.xlabel('No. of Components')\n",
    "plt.ylabel('Cumulative Explained Variance')\n",
    "plt.show()"
   ]
  },
  {
   "cell_type": "code",
   "execution_count": 51,
   "id": "9515f782-03ad-4e35-bd16-17de9e04e5ce",
   "metadata": {},
   "outputs": [],
   "source": [
    "# Choosing 13 components as they explain 80% of variance\n",
    "pca = PCA(n_components=13, random_state=42)\n",
    "sc = StandardScaler()\n",
    "si = SimpleImputer(strategy=\"median\")\n",
    "si.fit(X)\n",
    "sc.fit(si.transform(X))\n",
    "# fitting the PCA\n",
    "pca.fit(sc.transform(si.transform(X)))\n",
    "# projection of the data into the 4 axes of the trained PCA\n",
    "pca_data = pca.transform(sc.transform(si.transform(X)))"
   ]
  },
  {
   "cell_type": "code",
   "execution_count": 52,
   "id": "b08e254b-4277-46d4-8dfc-57010dbb233f",
   "metadata": {},
   "outputs": [],
   "source": [
    "pca_df = pd.DataFrame(pca_data, columns = [\"pca_1\",\"pca_2\",\"pca_3\",\"pca_4\",\"pca_5\",\"pca_6\",\"pca_7\",\"pca_8\"\n",
    "                                           ,\"pca_9\",\"pca_10\",\"pca_11\",\"pca_12\",\"pca_13\"])"
   ]
  },
  {
   "cell_type": "code",
   "execution_count": 53,
   "id": "0c538b75-38de-4693-90df-1f79af42662d",
   "metadata": {},
   "outputs": [],
   "source": [
    "# Train_test_split\n",
    "pca_train, pca_test, ypca_train, ypca_test = train_test_split(pca_df, y, test_size=0.30, random_state=100)"
   ]
  },
  {
   "cell_type": "code",
   "execution_count": 54,
   "id": "0f384c0e-b213-4421-a4f5-6a3dd998bc38",
   "metadata": {},
   "outputs": [
    {
     "data": {
      "text/plain": [
       "LinearRegression()"
      ]
     },
     "execution_count": 54,
     "metadata": {},
     "output_type": "execute_result"
    }
   ],
   "source": [
    "# Using Linear Regression\n",
    "lr = LinearRegression()\n",
    "lr.fit(pca_train,ypca_train)"
   ]
  },
  {
   "cell_type": "code",
   "execution_count": 58,
   "id": "982e4554-f734-402d-86a7-25b8f8171f95",
   "metadata": {},
   "outputs": [],
   "source": [
    "ypca_lr = lr.predict(pca_test)"
   ]
  },
  {
   "cell_type": "code",
   "execution_count": 55,
   "id": "6a75b17e-e8a1-4b52-ae3c-0b6ae644f3aa",
   "metadata": {},
   "outputs": [
    {
     "data": {
      "text/plain": [
       "Ridge(alpha=0.05)"
      ]
     },
     "execution_count": 55,
     "metadata": {},
     "output_type": "execute_result"
    }
   ],
   "source": [
    "#Using ridge regression\n",
    "rr = Ridge(alpha=0.05)\n",
    "rr.fit(pca_train,ypca_train)"
   ]
  },
  {
   "cell_type": "code",
   "execution_count": 56,
   "id": "5947270a-ef9c-4d46-8442-334339808e78",
   "metadata": {},
   "outputs": [],
   "source": [
    "ypca_rr = rr.predict(pca_test)"
   ]
  },
  {
   "cell_type": "code",
   "execution_count": 59,
   "id": "9407af3c-aaca-491e-9035-cbcb93f7d1fb",
   "metadata": {},
   "outputs": [
    {
     "name": "stdout",
     "output_type": "stream",
     "text": [
      "RSquared_Linear:  0.06345558772616089\n",
      "RSquared_Ridge: 0.06345558774407267\n",
      "MAE_Linear:  24.113283549147766\n",
      "MAE_Ridge: 24.11328349873362\n"
     ]
    }
   ],
   "source": [
    "R2pca_lr = r2_score(ypca_test, ypca_lr)\n",
    "R2pca_rr = r2_score(ypca_test, ypca_rr)\n",
    "MAEpca_lr = mean_absolute_error(ypca_test, ypca_lr)\n",
    "MAEpca_rr = mean_absolute_error(ypca_test, ypca_rr)\n",
    "print (f'RSquared_Linear:  {R2pca_lr}')\n",
    "print (f'RSquared_Ridge: {R2pca_rr}')\n",
    "print (f'MAE_Linear:  {MAEpca_lr}')\n",
    "print (f'MAE_Ridge: {MAEpca_rr}')"
   ]
  },
  {
   "cell_type": "markdown",
   "id": "d1c81480-8a75-4027-a619-dfd24b107eb9",
   "metadata": {},
   "source": [
    "#### Reducing components using PCA has reduced the score. Hence, not taking PCA components into consideration."
   ]
  },
  {
   "cell_type": "code",
   "execution_count": null,
   "id": "c08b4d3a-5fd2-49e0-a9d3-be85ecafa159",
   "metadata": {},
   "outputs": [],
   "source": []
  },
  {
   "cell_type": "markdown",
   "id": "34d86ea4-7d7e-4b19-9fba-8ec7dbeb1e76",
   "metadata": {},
   "source": [
    "#### Trying Polynomial Features"
   ]
  },
  {
   "cell_type": "code",
   "execution_count": 62,
   "id": "5de10ae4-bcc4-4d2b-b7a0-ac8865b9b7ac",
   "metadata": {},
   "outputs": [],
   "source": [
    "#from sklearn.preprocessing import PolynomialFeatures\n",
    "#from sklearn.pipeline import make_pipeline"
   ]
  },
  {
   "cell_type": "code",
   "execution_count": 60,
   "id": "ef9bebf6-f6c2-4a88-9a89-f34071d07681",
   "metadata": {},
   "outputs": [
    {
     "data": {
      "text/plain": [
       "Pipeline(steps=[('polynomialfeatures', PolynomialFeatures()),\n",
       "                ('linearregression', LinearRegression())])"
      ]
     },
     "execution_count": 60,
     "metadata": {},
     "output_type": "execute_result"
    }
   ],
   "source": [
    "degree=2\n",
    "polyreg=make_pipeline(PolynomialFeatures(degree),LinearRegression())\n",
    "polyreg.fit(X_train,y_train)"
   ]
  },
  {
   "cell_type": "code",
   "execution_count": 61,
   "id": "99b88109-1051-4bc3-b494-9ee58dae287e",
   "metadata": {},
   "outputs": [],
   "source": [
    "ypoly = polyreg.predict(X_test)"
   ]
  },
  {
   "cell_type": "code",
   "execution_count": 62,
   "id": "0f16a91e-3dc4-4d0f-8c9d-4db61e27d2b6",
   "metadata": {},
   "outputs": [
    {
     "name": "stdout",
     "output_type": "stream",
     "text": [
      "RSquared_Linear:  0.0796153555412088\n",
      "MAE_Linear:  23.244152552954393\n"
     ]
    }
   ],
   "source": [
    "R2poly = r2_score(y_test, ypoly)\n",
    "MAEpoly = mean_absolute_error(y_test, ypoly)\n",
    "print (f'RSquared_Linear:  {R2poly}')\n",
    "print (f'MAE_Linear:  {MAEpoly}')"
   ]
  },
  {
   "cell_type": "markdown",
   "id": "f0e44f20-07fc-479b-bd29-27e610d9edf0",
   "metadata": {},
   "source": [
    "#### Random Forest Regressor"
   ]
  },
  {
   "cell_type": "code",
   "execution_count": 63,
   "id": "bc55fc17-8e59-4cd8-9ca9-1d35461fa562",
   "metadata": {
    "tags": []
   },
   "outputs": [
    {
     "data": {
      "text/plain": [
       "RandomForestRegressor(max_depth=5)"
      ]
     },
     "execution_count": 63,
     "metadata": {},
     "output_type": "execute_result"
    }
   ],
   "source": [
    "#from sklearn.ensemble import RandomForestRegressor\n",
    "#Create a Regressor\n",
    "rf_reg=RandomForestRegressor(max_depth = 5)\n",
    "\n",
    "#Train the model using the training\n",
    "rf_reg.fit(X_train,y_train)"
   ]
  },
  {
   "cell_type": "code",
   "execution_count": 64,
   "id": "9ada1f86-3615-4447-a785-47a8604d0c94",
   "metadata": {},
   "outputs": [],
   "source": [
    "y_rf=rf_reg.predict(X_test)"
   ]
  },
  {
   "cell_type": "code",
   "execution_count": 65,
   "id": "fae980fc-765d-48d2-b34f-e7dfe4436b1c",
   "metadata": {},
   "outputs": [
    {
     "name": "stdout",
     "output_type": "stream",
     "text": [
      "RSquared_Linear:  0.07917643681529807\n",
      "MAE_Linear:  23.13255238640249\n"
     ]
    }
   ],
   "source": [
    "R2rf = r2_score(y_test, y_rf)\n",
    "MAErf = mean_absolute_error(y_test, y_rf)\n",
    "print (f'RSquared_Linear:  {R2rf}')\n",
    "print (f'MAE_Linear:  {MAErf}')"
   ]
  },
  {
   "cell_type": "markdown",
   "id": "ae7661ea-d324-411d-9a7d-cdf6cda699db",
   "metadata": {},
   "source": [
    "#### XGB Boost"
   ]
  },
  {
   "cell_type": "code",
   "execution_count": 69,
   "id": "e37ea1d8-8da7-431b-8383-319e7b3b9f42",
   "metadata": {},
   "outputs": [],
   "source": [
    "#import xgboost as xgb"
   ]
  },
  {
   "cell_type": "code",
   "execution_count": 115,
   "id": "8d54e0fa-6a00-4ad2-ae5f-eaa198955d6a",
   "metadata": {
    "tags": []
   },
   "outputs": [],
   "source": [
    "# Instantiate XGB Regressor\n",
    "xg_reg = xgb.XGBRegressor(objective ='reg:squarederror', colsample_bytree = 0.3, learning_rate = 0.05,\n",
    "                max_depth = 5, alpha = 0.01, n_estimators = 1000)"
   ]
  },
  {
   "cell_type": "code",
   "execution_count": 116,
   "id": "19a9b68d-1546-4d97-9997-7c484a52b360",
   "metadata": {},
   "outputs": [
    {
     "data": {
      "text/plain": [
       "XGBRegressor(alpha=0.01, base_score=0.5, booster='gbtree', colsample_bylevel=1,\n",
       "             colsample_bynode=1, colsample_bytree=0.3, gamma=0, gpu_id=-1,\n",
       "             importance_type='gain', interaction_constraints='',\n",
       "             learning_rate=0.05, max_delta_step=0, max_depth=5,\n",
       "             min_child_weight=1, missing=nan, monotone_constraints='()',\n",
       "             n_estimators=1000, n_jobs=4, num_parallel_tree=1, random_state=0,\n",
       "             reg_alpha=0.00999999978, reg_lambda=1, scale_pos_weight=1,\n",
       "             subsample=1, tree_method='exact', validate_parameters=1,\n",
       "             verbosity=None)"
      ]
     },
     "execution_count": 116,
     "metadata": {},
     "output_type": "execute_result"
    }
   ],
   "source": [
    "xg_reg.fit(X_train,y_train)"
   ]
  },
  {
   "cell_type": "code",
   "execution_count": 117,
   "id": "95ffa580-bd52-42a8-b46f-c3a8fc1dab86",
   "metadata": {},
   "outputs": [],
   "source": [
    "y_xg = xg_reg.predict(X_test)"
   ]
  },
  {
   "cell_type": "code",
   "execution_count": 118,
   "id": "fe7e8cb8-19ee-45fd-ace2-cbb7a76c7cc5",
   "metadata": {},
   "outputs": [
    {
     "name": "stdout",
     "output_type": "stream",
     "text": [
      "RSquared_Linear:  0.10783209067984934\n",
      "MAE_Linear:  22.456878854388147\n"
     ]
    }
   ],
   "source": [
    "R2xg = r2_score(y_test, y_xg)\n",
    "MAExg = mean_absolute_error(y_test, y_xg)\n",
    "print (f'RSquared_Linear:  {R2xg}')\n",
    "print (f'MAE_Linear:  {MAExg}')"
   ]
  },
  {
   "cell_type": "code",
   "execution_count": 119,
   "id": "04d36b4f-e7fa-45cd-90ed-d8a8bd39a5a2",
   "metadata": {},
   "outputs": [
    {
     "name": "stdout",
     "output_type": "stream",
     "text": [
      "RMSE: 48.176837\n"
     ]
    }
   ],
   "source": [
    "#Calculating the RMSE:\n",
    "#from sklearn.metrics import mean_squared_error\n",
    "rmse = np.sqrt(mean_squared_error(y_test, y_xg))\n",
    "print(\"RMSE: %f\" % (rmse))"
   ]
  },
  {
   "cell_type": "code",
   "execution_count": 121,
   "id": "962b0181-16ab-4f62-af13-11c204d0bd93",
   "metadata": {},
   "outputs": [
    {
     "data": {
      "image/png": "[encoded data removed]",
      "text/plain": [
       "<Figure size 1152x576 with 1 Axes>"
      ]
     },
     "metadata": {
      "needs_background": "light"
     },
     "output_type": "display_data"
    }
   ],
   "source": [
    "x_ax = range(len(y_test))\n",
    "fig = plt.figure(figsize=(16,8))\n",
    "plt.plot(x_ax, y_test, label=\"original\")\n",
    "plt.plot(x_ax, y_xg, label=\"predicted\")\n",
    "\n",
    "plt.title(\"Test and predicted data\")\n",
    "plt.xlabel('No. of flights')\n",
    "plt.ylabel('Delay in minutes')\n",
    "\n",
    "plt.legend()\n",
    "plt.show()"
   ]
  },
  {
   "cell_type": "markdown",
   "id": "06c3d0ab-3333-473e-886f-4272e102b98a",
   "metadata": {},
   "source": [
    "<a id='selection'></a>\n",
    "#### Comparing & Selecting the model"
   ]
  },
  {
   "cell_type": "code",
   "execution_count": 122,
   "id": "d4ace9cf-0689-4cbf-950c-aa7db966db19",
   "metadata": {},
   "outputs": [],
   "source": [
    "comparative = pd.DataFrame(data = {'Model': ['Linear Regression','Ridge Regression', 'Linear_withPCA', 'Ridge_withPCA', 'Polynomial Features', 'Random Forrest Regressor', 'XGB Regressor'],\n",
    "                           'R2 Score': [ R2_lr, R2_rr, R2pca_lr, R2pca_rr, R2poly, R2rf, R2xg],\n",
    "                           'MAE': [ MAE_lr, MAE_rr, MAEpca_lr, MAEpca_rr, MAEpoly, MAErf, MAExg]})"
   ]
  },
  {
   "cell_type": "code",
   "execution_count": 124,
   "id": "71b8ca72-80fe-40d1-9fa2-594994c9ab4a",
   "metadata": {},
   "outputs": [
    {
     "data": {
      "text/html": [
       "<div>\n",
       "<style scoped>\n",
       "    .dataframe tbody tr th:only-of-type {\n",
       "        vertical-align: middle;\n",
       "    }\n",
       "\n",
       "    .dataframe tbody tr th {\n",
       "        vertical-align: top;\n",
       "    }\n",
       "\n",
       "    .dataframe thead th {\n",
       "        text-align: right;\n",
       "    }\n",
       "</style>\n",
       "<table border=\"1\" class=\"dataframe\">\n",
       "  <thead>\n",
       "    <tr style=\"text-align: right;\">\n",
       "      <th></th>\n",
       "      <th>Model</th>\n",
       "      <th>R2 Score</th>\n",
       "      <th>MAE</th>\n",
       "    </tr>\n",
       "  </thead>\n",
       "  <tbody>\n",
       "    <tr>\n",
       "      <th>0</th>\n",
       "      <td>Linear Regression</td>\n",
       "      <td>0.073238</td>\n",
       "      <td>23.315643</td>\n",
       "    </tr>\n",
       "    <tr>\n",
       "      <th>1</th>\n",
       "      <td>Ridge Regression</td>\n",
       "      <td>0.073238</td>\n",
       "      <td>23.315643</td>\n",
       "    </tr>\n",
       "    <tr>\n",
       "      <th>2</th>\n",
       "      <td>Linear_withPCA</td>\n",
       "      <td>0.063456</td>\n",
       "      <td>24.113284</td>\n",
       "    </tr>\n",
       "    <tr>\n",
       "      <th>3</th>\n",
       "      <td>Ridge_withPCA</td>\n",
       "      <td>0.063456</td>\n",
       "      <td>24.113283</td>\n",
       "    </tr>\n",
       "    <tr>\n",
       "      <th>4</th>\n",
       "      <td>Polynomial Features</td>\n",
       "      <td>0.079615</td>\n",
       "      <td>23.244153</td>\n",
       "    </tr>\n",
       "    <tr>\n",
       "      <th>5</th>\n",
       "      <td>Random Forrest Regressor</td>\n",
       "      <td>0.079176</td>\n",
       "      <td>23.132552</td>\n",
       "    </tr>\n",
       "    <tr>\n",
       "      <th>6</th>\n",
       "      <td>XGB Regressor</td>\n",
       "      <td>0.107832</td>\n",
       "      <td>22.456879</td>\n",
       "    </tr>\n",
       "  </tbody>\n",
       "</table>\n",
       "</div>"
      ],
      "text/plain": [
       "                      Model  R2 Score        MAE\n",
       "0         Linear Regression  0.073238  23.315643\n",
       "1          Ridge Regression  0.073238  23.315643\n",
       "2            Linear_withPCA  0.063456  24.113284\n",
       "3             Ridge_withPCA  0.063456  24.113283\n",
       "4       Polynomial Features  0.079615  23.244153\n",
       "5  Random Forrest Regressor  0.079176  23.132552\n",
       "6             XGB Regressor  0.107832  22.456879"
      ]
     },
     "execution_count": 124,
     "metadata": {},
     "output_type": "execute_result"
    }
   ],
   "source": [
    "comparative.to_csv('Comparison.csv')\n",
    "comparative"
   ]
  },
  {
   "cell_type": "markdown",
   "id": "5626f874-4478-4307-86bc-c61156ee2c71",
   "metadata": {
    "tags": []
   },
   "source": [
    "<a id='tuning'></a>\n",
    "#### Hyperparameter Tuning"
   ]
  },
  {
   "cell_type": "code",
   "execution_count": null,
   "id": "78c10038-4dc0-4bc8-89d1-3681b35c71c0",
   "metadata": {},
   "outputs": [],
   "source": [
    "#from sklearn.model_selection import GridSearchCV"
   ]
  },
  {
   "cell_type": "code",
   "execution_count": 78,
   "id": "ea1656e1-db95-4dcd-a2d1-85740acb6702",
   "metadata": {},
   "outputs": [],
   "source": [
    "model = xgb.XGBRegressor()\n",
    "parameters = [{'max_depth': [4,5], 'n_estimators':[100, 500, 1000],\n",
    "               'learning_rate' : [0.05,0.1], 'alpha': [0.1,0.01,0.001]}]"
   ]
  },
  {
   "cell_type": "code",
   "execution_count": 81,
   "id": "4924691d-2ed1-43bf-b4bd-4caee707c0e6",
   "metadata": {
    "tags": []
   },
   "outputs": [],
   "source": [
    "# Create an object with the model and parameter candidates\n",
    "reg = GridSearchCV(estimator=xgbr, \n",
    "                   param_grid=params,\n",
    "                   scoring='neg_mean_squared_error', \n",
    "                   verbose=1)"
   ]
  },
  {
   "cell_type": "code",
   "execution_count": null,
   "id": "eb74141f-b829-477e-9eae-1c9266f273cd",
   "metadata": {},
   "outputs": [],
   "source": [
    "# Train the classifier on data1's feature and target data\n",
    "results = reg.fit(X_train, y_train)"
   ]
  },
  {
   "cell_type": "code",
   "execution_count": null,
   "id": "8c66ce22-dc1c-42d7-bbf8-4b523aff3c3b",
   "metadata": {},
   "outputs": [],
   "source": [
    "# View the score\n",
    "print('Best score for data1:', results.best_score_)\n",
    "# View the best parameters for the model found using grid search\n",
    "print('Best parameters: ',results.best_params_) "
   ]
  },
  {
   "cell_type": "code",
   "execution_count": null,
   "id": "4b026f80-3535-47a7-9f02-02abb3b9b4bf",
   "metadata": {
    "tags": []
   },
   "outputs": [],
   "source": [
    "# Apply the best params to the model\n",
    "results.score(X_test, y_test)"
   ]
  },
  {
   "cell_type": "code",
   "execution_count": 115,
   "id": "a2347827-602d-4b2a-a06f-d6f30d15b5fa",
   "metadata": {
    "tags": []
   },
   "outputs": [],
   "source": [
    "# Instantiate XGB Regressor\n",
    "xg_reg = xgb.XGBRegressor(objective ='reg:squarederror', colsample_bytree = 0.3, learning_rate = 0.05,\n",
    "                max_depth = 5, alpha = 0.01, n_estimators = 1000)"
   ]
  },
  {
   "cell_type": "code",
   "execution_count": null,
   "id": "2a2853dd-5e60-4cdc-bff7-7a3634f150f0",
   "metadata": {},
   "outputs": [],
   "source": [
    "xg_reg.fit(X_train,y_train)"
   ]
  },
  {
   "cell_type": "code",
   "execution_count": 125,
   "id": "99ac2d8f-52a1-4406-ad08-96e93c7a38be",
   "metadata": {},
   "outputs": [],
   "source": [
    "#Save the model best model to disk after fitting\n",
    "#import pickle\n",
    "filename = ('mid_termXGB.sav')\n",
    "pickle.dump(xg_reg,open(filename,'wb'))"
   ]
  },
  {
   "cell_type": "code",
   "execution_count": null,
   "id": "ef6412f0-2f1f-4a6f-be03-00e479b4b41d",
   "metadata": {},
   "outputs": [],
   "source": [
    "#To retrieve model from disk\n",
    "#loaded_model = pickle.load(open(filename,'rb'))"
   ]
  },
  {
   "cell_type": "code",
   "execution_count": null,
   "id": "630a2a86-ee64-4148-9e9c-fb2e92be5d14",
   "metadata": {},
   "outputs": [],
   "source": [
    "\n"
   ]
  },
  {
   "cell_type": "code",
   "execution_count": null,
   "id": "b7f804b0-0f4b-482a-8bf1-6288aa6f7018",
   "metadata": {},
   "outputs": [],
   "source": []
  },
  {
   "cell_type": "code",
   "execution_count": null,
   "id": "f05461d0-879e-4357-ac92-6bf2022cd011",
   "metadata": {},
   "outputs": [],
   "source": []
  }
 ],
 "metadata": {
  "kernelspec": {
   "display_name": "Python 3 (ipykernel)",
   "language": "python",
   "name": "python3"
  },
  "language_info": {
   "codemirror_mode": {
    "name": "ipython",
    "version": 3
   },
   "file_extension": ".py",
   "mimetype": "text/x-python",
   "name": "python",
   "nbconvert_exporter": "python",
   "pygments_lexer": "ipython3",
   "version": "3.8.11"
  }
 },
 "nbformat": 4,
 "nbformat_minor": 5
}
